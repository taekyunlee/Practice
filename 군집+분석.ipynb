{
 "cells": [
  {
   "cell_type": "code",
   "execution_count": 1,
   "metadata": {
    "collapsed": false
   },
   "outputs": [
    {
     "name": "stderr",
     "output_type": "stream",
     "text": [
      "C:\\Users\\SS\\Anaconda31\\lib\\site-packages\\statsmodels\\compat\\pandas.py:56: FutureWarning: The pandas.core.datetools module is deprecated and will be removed in a future version. Please use the pandas.tseries module instead.\n",
      "  from pandas.core import datetools\n"
     ]
    }
   ],
   "source": [
    "import pandas as pd\n",
    "from pandas import Series, DataFrame\n",
    "import scipy as sp\n",
    "import matplotlib.pyplot as plt\n",
    "import seaborn as sns\n",
    "import sklearn\n",
    "from sklearn.linear_model import LinearRegression\n",
    "import statsmodels.api as sm\n",
    "from sklearn.pipeline import make_pipeline\n",
    "from sklearn.decomposition import PCA \n",
    "from sklearn.preprocessing import MinMaxScaler\n",
    "from sklearn.ensemble import AdaBoostRegressor\n",
    "from sklearn.ensemble import RandomForestRegressor\n",
    "from sklearn.model_selection import GridSearchCV\n",
    "from sklearn.linear_model import Lasso\n",
    "%matplotlib inline"
   ]
  },
  {
   "cell_type": "code",
   "execution_count": 28,
   "metadata": {
    "collapsed": false
   },
   "outputs": [
    {
     "data": {
      "text/plain": [
       "KMeans(algorithm='auto', copy_x=True, init='k-means++', max_iter=300,\n",
       "    n_clusters=5, n_init=10, n_jobs=1, precompute_distances='auto',\n",
       "    random_state=None, tol=0.0001, verbose=0)"
      ]
     },
     "execution_count": 28,
     "metadata": {},
     "output_type": "execute_result"
    }
   ],
   "source": [
    "from sklearn.datasets import make_blobs\n",
    "from sklearn.cluster import KMeans\n",
    "\n",
    "x,y = make_blobs(random_state=1)\n",
    "\n",
    "kmeans = KMeans(n_clusters=5)\n",
    "kmeans.fit(x)"
   ]
  },
  {
   "cell_type": "code",
   "execution_count": 29,
   "metadata": {
    "collapsed": false
   },
   "outputs": [
    {
     "data": {
      "text/plain": [
       "array([4, 0, 3, 3, 2, 2, 2, 0, 1, 1, 0, 3, 2, 1, 2, 2, 2, 1, 3, 3, 2, 3,\n",
       "       2, 1, 0, 2, 2, 1, 4, 2, 1, 1, 2, 1, 0, 2, 0, 3, 0, 2, 2, 0, 1, 3,\n",
       "       0, 2, 1, 4, 1, 1, 0, 2, 2, 2, 1, 2, 3, 3, 1, 1, 3, 2, 2, 0, 3, 2,\n",
       "       1, 2, 1, 0, 3, 0, 2, 1, 1, 0, 2, 2, 1, 3, 1, 3, 3, 2, 1, 4, 1, 4,\n",
       "       3, 1, 2, 1, 1, 3, 0, 2, 2, 1, 2, 4])"
      ]
     },
     "execution_count": 29,
     "metadata": {},
     "output_type": "execute_result"
    }
   ],
   "source": [
    "kmeans.labels_"
   ]
  },
  {
   "cell_type": "code",
   "execution_count": 30,
   "metadata": {
    "collapsed": false
   },
   "outputs": [
    {
     "data": {
      "text/plain": [
       "array([[ -9.54613654,  -4.51849239],\n",
       "       [ -1.72685499,   4.6189108 ],\n",
       "       [ -6.58196786,  -8.17239339],\n",
       "       [-10.468699  ,  -3.31041475],\n",
       "       [ -0.27747188,   3.02265624]])"
      ]
     },
     "execution_count": 30,
     "metadata": {},
     "output_type": "execute_result"
    }
   ],
   "source": [
    "kmeans.cluster_centers_"
   ]
  },
  {
   "cell_type": "code",
   "execution_count": 16,
   "metadata": {
    "collapsed": false
   },
   "outputs": [
    {
     "data": {
      "text/plain": [
       "156.28289251170003"
      ]
     },
     "execution_count": 16,
     "metadata": {},
     "output_type": "execute_result"
    }
   ],
   "source": [
    "kmeans.inertia_"
   ]
  },
  {
   "cell_type": "code",
   "execution_count": 18,
   "metadata": {
    "collapsed": false
   },
   "outputs": [
    {
     "data": {
      "text/plain": [
       "(100, 2)"
      ]
     },
     "execution_count": 18,
     "metadata": {},
     "output_type": "execute_result"
    }
   ],
   "source": [
    "x.shape"
   ]
  },
  {
   "cell_type": "code",
   "execution_count": 22,
   "metadata": {
    "collapsed": false,
    "scrolled": true
   },
   "outputs": [
    {
     "data": {
      "text/plain": [
       "array([[-7.94152277e-01,  2.10495117e+00],\n",
       "       [-9.15155186e+00, -4.81286449e+00],\n",
       "       [-1.14418263e+01, -4.45781441e+00],\n",
       "       [-9.76761777e+00, -3.19133737e+00],\n",
       "       [-4.53655648e+00, -8.40186288e+00],\n",
       "       [-6.26302115e+00, -8.10666081e+00],\n",
       "       [-6.38481234e+00, -8.47302970e+00],\n",
       "       [-9.20490564e+00, -4.57687928e+00],\n",
       "       [-2.76017908e+00,  5.55121358e+00],\n",
       "       [-1.17104176e+00,  4.33091816e+00],\n",
       "       [-1.00364080e+01, -5.56912090e+00],\n",
       "       [-9.87589123e+00, -2.82386464e+00],\n",
       "       [-7.17532921e+00, -8.77059017e+00],\n",
       "       [-2.40671820e+00,  6.09894447e+00],\n",
       "       [-4.87418245e+00, -1.00495890e+01],\n",
       "       [-6.07854700e+00, -7.93969420e+00],\n",
       "       [-6.83238762e+00, -7.47067670e+00],\n",
       "       [-2.34673261e+00,  3.56128423e+00],\n",
       "       [-1.03415662e+01, -3.90975169e+00],\n",
       "       [-1.10926243e+01, -3.78396611e+00],\n",
       "       [-6.50212109e+00, -7.91249101e+00],\n",
       "       [-1.02639310e+01, -3.92073400e+00],\n",
       "       [-6.81608302e+00, -8.44986926e+00],\n",
       "       [-1.34052081e+00,  4.15711949e+00],\n",
       "       [-1.03729975e+01, -4.59207895e+00],\n",
       "       [-7.37499896e+00, -1.05880659e+01],\n",
       "       [-6.62351774e+00, -8.25338334e+00],\n",
       "       [-1.35938959e+00,  4.05424002e+00],\n",
       "       [-1.97451969e-01,  2.34634916e+00],\n",
       "       [-6.54430585e+00, -9.29756949e+00],\n",
       "       [-1.92744799e+00,  4.93684534e+00],\n",
       "       [-2.80207810e+00,  4.05714715e+00],\n",
       "       [-7.58197664e+00, -9.15025493e+00],\n",
       "       [-1.85139546e+00,  3.51886090e+00],\n",
       "       [-8.37006175e+00, -3.61533685e+00],\n",
       "       [-7.25145196e+00, -8.25497398e+00],\n",
       "       [-8.79879462e+00, -3.76819213e+00],\n",
       "       [-1.13708298e+01, -3.63818916e+00],\n",
       "       [-1.01786328e+01, -4.55726918e+00],\n",
       "       [-7.20132693e+00, -8.27228229e+00],\n",
       "       [-6.78421711e+00, -8.22634081e+00],\n",
       "       [-9.64716652e+00, -5.26563196e+00],\n",
       "       [-1.98197711e+00,  4.02243551e+00],\n",
       "       [-1.12277706e+01, -3.40281105e+00],\n",
       "       [-9.79941278e+00, -3.83433990e+00],\n",
       "       [-6.53541686e+00, -8.01552689e+00],\n",
       "       [-7.57969185e-01,  4.90898421e+00],\n",
       "       [ 5.26015501e-01,  3.00999353e+00],\n",
       "       [-2.77687025e+00,  4.64090557e+00],\n",
       "       [-1.78245013e+00,  3.47072043e+00],\n",
       "       [-1.02200406e+01, -4.15410662e+00],\n",
       "       [-6.40583239e+00, -9.78066645e+00],\n",
       "       [-6.98706106e+00, -7.53484784e+00],\n",
       "       [-7.46576038e+00, -7.32922249e+00],\n",
       "       [-1.53940095e+00,  5.02369298e+00],\n",
       "       [-6.56967086e+00, -8.32793126e+00],\n",
       "       [-1.06177133e+01, -3.25531651e+00],\n",
       "       [-8.72395657e+00, -1.98624680e+00],\n",
       "       [-1.61734616e+00,  4.98930508e+00],\n",
       "       [-1.14663009e+00,  4.10839703e+00],\n",
       "       [-9.81115111e+00, -3.54329690e+00],\n",
       "       [-7.71179887e+00, -7.25174121e+00],\n",
       "       [-6.56169737e+00, -6.86000222e+00],\n",
       "       [-1.00223295e+01, -4.72851017e+00],\n",
       "       [-1.18556944e+01, -2.71718452e+00],\n",
       "       [-5.73342507e+00, -8.44053597e+00],\n",
       "       [-2.41395785e+00,  5.65935802e+00],\n",
       "       [-8.33744094e+00, -7.83968038e+00],\n",
       "       [-1.83198811e+00,  3.52863145e+00],\n",
       "       [-9.57421815e+00, -3.87600848e+00],\n",
       "       [-9.59422086e+00, -3.35977002e+00],\n",
       "       [-9.25715605e+00, -4.90704915e+00],\n",
       "       [-6.46256290e+00, -7.73294590e+00],\n",
       "       [-8.20576492e-01,  5.33759195e+00],\n",
       "       [ 2.42271161e-04,  5.14853403e+00],\n",
       "       [-9.68207756e+00, -5.97554976e+00],\n",
       "       [-6.19599603e+00, -7.40281646e+00],\n",
       "       [-7.02121319e+00, -8.37954235e+00],\n",
       "       [-2.18773166e+00,  3.33352125e+00],\n",
       "       [-1.04448411e+01, -2.72884084e+00],\n",
       "       [-5.27930518e-01,  5.92630669e+00],\n",
       "       [-1.11969805e+01, -3.09000323e+00],\n",
       "       [-9.83767543e+00, -3.07717963e+00],\n",
       "       [-5.16022348e+00, -7.04217141e+00],\n",
       "       [-2.35122066e+00,  4.00973634e+00],\n",
       "       [-5.25790464e-01,  3.30659860e+00],\n",
       "       [-1.46864442e+00,  6.50674501e+00],\n",
       "       [-7.58703957e-01,  3.72276201e+00],\n",
       "       [-1.03039165e+01, -3.12537390e+00],\n",
       "       [-2.33080604e+00,  4.39382527e+00],\n",
       "       [-5.90454361e+00, -7.78373539e+00],\n",
       "       [-1.60875215e+00,  3.76949422e+00],\n",
       "       [-1.86845414e+00,  4.99311306e+00],\n",
       "       [-1.06683748e+01, -3.57578476e+00],\n",
       "       [-8.87629480e+00, -3.54444801e+00],\n",
       "       [-6.02605758e+00, -5.96624846e+00],\n",
       "       [-7.04747278e+00, -9.27524683e+00],\n",
       "       [-1.37397258e+00,  5.29163103e+00],\n",
       "       [-6.25393051e+00, -7.10878601e+00],\n",
       "       [ 8.52518583e-02,  3.64528297e+00]])"
      ]
     },
     "execution_count": 22,
     "metadata": {},
     "output_type": "execute_result"
    }
   ],
   "source": [
    "x"
   ]
  },
  {
   "cell_type": "code",
   "execution_count": 36,
   "metadata": {
    "collapsed": false
   },
   "outputs": [
    {
     "data": {
      "text/plain": [
       "<matplotlib.collections.PathCollection at 0x19ea72500b8>"
      ]
     },
     "execution_count": 36,
     "metadata": {},
     "output_type": "execute_result"
    },
    {
     "data": {
      "image/png": "[encoded data removed]",
      "text/plain": [
       "<matplotlib.figure.Figure at 0x19ea71550b8>"
      ]
     },
     "metadata": {},
     "output_type": "display_data"
    }
   ],
   "source": [
    "plt.scatter(x[:,0], x[:,1], c = kmeans.labels_ )"
   ]
  },
  {
   "cell_type": "code",
   "execution_count": 49,
   "metadata": {
    "collapsed": false,
    "scrolled": true
   },
   "outputs": [],
   "source": [
    "la = pd.DataFrame(kmeans.labels_)\n",
    "la.rename(columns ={0: 'la'}, inplace= True)"
   ]
  },
  {
   "cell_type": "code",
   "execution_count": 50,
   "metadata": {
    "collapsed": false
   },
   "outputs": [],
   "source": [
    "dat = pd.DataFrame(x)"
   ]
  },
  {
   "cell_type": "code",
   "execution_count": 52,
   "metadata": {
    "collapsed": false
   },
   "outputs": [],
   "source": [
    "data = pd.concat([dat,la], axis = 1 )"
   ]
  },
  {
   "cell_type": "code",
   "execution_count": 64,
   "metadata": {
    "collapsed": false,
    "scrolled": true
   },
   "outputs": [],
   "source": [
    "data['la'] = data['la'].astype(str)"
   ]
  },
  {
   "cell_type": "code",
   "execution_count": 79,
   "metadata": {
    "collapsed": false,
    "scrolled": true
   },
   "outputs": [
    {
     "name": "stderr",
     "output_type": "stream",
     "text": [
      "No handles with labels found to put in legend.\n"
     ]
    },
    {
     "data": {
      "text/plain": [
       "<matplotlib.legend.Legend at 0x19ea8b5eeb8>"
      ]
     },
     "execution_count": 79,
     "metadata": {},
     "output_type": "execute_result"
    },
    {
     "data": {
      "image/png": "[encoded data removed]",
      "text/plain": [
       "<matplotlib.figure.Figure at 0x19ea8b5ef98>"
      ]
     },
     "metadata": {},
     "output_type": "display_data"
    }
   ],
   "source": [
    "plt.scatter(data[data['la'] == '0'][0],data[data['la'] == '0'][1] )\n",
    "plt.legend()"
   ]
  },
  {
   "cell_type": "code",
   "execution_count": 83,
   "metadata": {
    "collapsed": false
   },
   "outputs": [
    {
     "data": {
      "text/plain": [
       "1    -4.812864\n",
       "7    -4.576879\n",
       "10   -5.569121\n",
       "24   -4.592079\n",
       "34   -3.615337\n",
       "36   -3.768192\n",
       "38   -4.557269\n",
       "41   -5.265632\n",
       "44   -3.834340\n",
       "50   -4.154107\n",
       "63   -4.728510\n",
       "69   -3.876008\n",
       "71   -4.907049\n",
       "75   -5.975550\n",
       "94   -3.544448\n",
       "Name: 1, dtype: float64"
      ]
     },
     "execution_count": 83,
     "metadata": {},
     "output_type": "execute_result"
    }
   ],
   "source": [
    "data[data['la'] == '0'][1]"
   ]
  },
  {
   "cell_type": "code",
   "execution_count": 6,
   "metadata": {
    "collapsed": false
   },
   "outputs": [],
   "source": [
    "import sklearn\n",
    "from sklearn.cluster import AgglomerativeClustering\n",
    "from sklearn.datasets import make_blobs\n",
    "\n",
    "x,y = make_blobs(random_state = 1)\n",
    "\n",
    "agg = AgglomerativeClustering(n_clusters=3)\n",
    "assignment = agg.fit_predict(x)\n",
    "\n"
   ]
  },
  {
   "cell_type": "code",
   "execution_count": 14,
   "metadata": {
    "collapsed": false
   },
   "outputs": [
    {
     "data": {
      "text/plain": [
       "[<matplotlib.lines.Line2D at 0x2084bf1e518>]"
      ]
     },
     "execution_count": 14,
     "metadata": {},
     "output_type": "execute_result"
    },
    {
     "data": {
      "image/png": "[encoded data removed]",
      "text/plain": [
       "<matplotlib.figure.Figure at 0x2084bc32390>"
      ]
     },
     "metadata": {},
     "output_type": "display_data"
    }
   ],
   "source": [
    "from scipy.cluster.hierarchy import dendrogram, ward\n",
    "import matplotlib.pyplot as plt\n",
    "%matplotlib inline\n",
    "\n",
    "x, y = make_blobs(random_state= 0 , n_samples=12)\n",
    "\n",
    "linkage_array = ward(x)\n",
    "\n",
    "dendrogram(linkage_array)\n",
    "\n",
    "ax = plt.gca()\n",
    "bounds = ax.get_xbound()\n",
    "\n",
    "ax.plot(bounds)"
   ]
  },
  {
   "cell_type": "code",
   "execution_count": null,
   "metadata": {
    "collapsed": true
   },
   "outputs": [],
   "source": []
  }
 ],
 "metadata": {
  "kernelspec": {
   "display_name": "Python [conda env:Anaconda31]",
   "language": "python",
   "name": "conda-env-Anaconda31-py"
  },
  "language_info": {
   "codemirror_mode": {
    "name": "ipython",
    "version": 3
   },
   "file_extension": ".py",
   "mimetype": "text/x-python",
   "name": "python",
   "nbconvert_exporter": "python",
   "pygments_lexer": "ipython3",
   "version": "3.5.2"
  }
 },
 "nbformat": 4,
 "nbformat_minor": 1
}
